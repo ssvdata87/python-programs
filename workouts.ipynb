{
 "cells": [
  {
   "cell_type": "code",
   "execution_count": 4,
   "id": "07ca77a7",
   "metadata": {},
   "outputs": [],
   "source": [
    "s='jack and jill went up and down to get water'"
   ]
  },
  {
   "cell_type": "code",
   "execution_count": 5,
   "id": "69d34352",
   "metadata": {},
   "outputs": [
    {
     "name": "stdout",
     "output_type": "stream",
     "text": [
      "retaw teg ot nwod dna pu tnew llij dna kcaj\n"
     ]
    }
   ],
   "source": [
    "print(s[::-1])"
   ]
  },
  {
   "cell_type": "code",
   "execution_count": 6,
   "id": "2ecbaec2",
   "metadata": {},
   "outputs": [],
   "source": [
    "d=s[::-1]"
   ]
  },
  {
   "cell_type": "code",
   "execution_count": 7,
   "id": "9cdd4417",
   "metadata": {},
   "outputs": [
    {
     "data": {
      "text/plain": [
       "'jack and jill went up and down to get water'"
      ]
     },
     "execution_count": 7,
     "metadata": {},
     "output_type": "execute_result"
    }
   ],
   "source": [
    "r=d[::-1]\n",
    "r"
   ]
  },
  {
   "cell_type": "code",
   "execution_count": 2,
   "id": "942121d2",
   "metadata": {},
   "outputs": [
    {
     "name": "stdout",
     "output_type": "stream",
     "text": [
      "5\n",
      "12 23 56 52\n"
     ]
    },
    {
     "data": {
      "text/plain": [
       "['1', '2', ' ', '2', '3', ' ', '5', '6', ' ', '5', '2']"
      ]
     },
     "execution_count": 2,
     "metadata": {},
     "output_type": "execute_result"
    }
   ],
   "source": [
    "a = int(input())\n",
    "b = list(input())\n",
    "a\n",
    "b"
   ]
  },
  {
   "cell_type": "code",
   "execution_count": 7,
   "id": "d75128eb",
   "metadata": {},
   "outputs": [
    {
     "name": "stdout",
     "output_type": "stream",
     "text": [
      "6\n",
      "0\n"
     ]
    }
   ],
   "source": [
    "#n = input()\n",
    "ns = input().split(\" \")\n",
    "nl = list(ns)\n",
    "test_list = [int(i) for i in nl]\n",
    "for i in test_list:\n",
    "    if(i/2==0):\n",
    "         a=1\n",
    "    else:\n",
    "         a=0\n",
    "print(a)    \n",
    "\n",
    "    "
   ]
  },
  {
   "cell_type": "code",
   "execution_count": 1,
   "id": "0c508501",
   "metadata": {},
   "outputs": [
    {
     "data": {
      "text/plain": [
       "10"
      ]
     },
     "execution_count": 1,
     "metadata": {},
     "output_type": "execute_result"
    }
   ],
   "source": [
    "a=10\n",
    "a"
   ]
  },
  {
   "cell_type": "code",
   "execution_count": null,
   "id": "971bf56d",
   "metadata": {},
   "outputs": [],
   "source": [
    "#find min number in a list\n",
    "# get input as n mumber seperated by space"
   ]
  },
  {
   "cell_type": "code",
   "execution_count": 9,
   "id": "171431e1",
   "metadata": {},
   "outputs": [
    {
     "name": "stdout",
     "output_type": "stream",
     "text": [
      "5\n",
      "10 2 30 4 5\n",
      "2\n"
     ]
    }
   ],
   "source": [
    "import functools\n",
    "n=int(input())\n",
    "ns = input().split(\" \")\n",
    "nl = list(ns)\n",
    "test_list = [int(i) for i in nl]\n",
    "print(functools.reduce(lambda a,b:a if a<b else b,test_list))"
   ]
  },
  {
   "cell_type": "code",
   "execution_count": 11,
   "id": "8d2fed0f",
   "metadata": {},
   "outputs": [
    {
     "name": "stdout",
     "output_type": "stream",
     "text": [
      "1\n"
     ]
    }
   ],
   "source": [
    "foo=[1,6,4,56, 56, 56, 6, 4, 2]\n",
    "print(min(foo, key=foo.count))"
   ]
  },
  {
   "cell_type": "code",
   "execution_count": 13,
   "id": "18d4b0bf",
   "metadata": {},
   "outputs": [
    {
     "name": "stdout",
     "output_type": "stream",
     "text": [
      "B\n"
     ]
    }
   ],
   "source": [
    "foo = ['A', 'A', 'A', 'B', 'C', 'C','Z']\n",
    "\n",
    "print(min(foo, key=foo.count))"
   ]
  },
  {
   "cell_type": "code",
   "execution_count": null,
   "id": "a487f065",
   "metadata": {},
   "outputs": [],
   "source": [
    "import functools\n",
    "n=int(input())\n",
    "\n",
    "print(functools.reduce(lambda a,b:a if a<b else b,test_list))"
   ]
  },
  {
   "cell_type": "code",
   "execution_count": 24,
   "id": "8d6f2f49",
   "metadata": {},
   "outputs": [
    {
     "name": "stdout",
     "output_type": "stream",
     "text": [
      "Enter a number: 3\n",
      "odd\n"
     ]
    }
   ],
   "source": [
    "num = int(input(\"Enter a number: \"))  \n",
    "if (num % 2) == 0:  \n",
    "    print('even')  \n",
    "else:  \n",
    "    print('odd') "
   ]
  },
  {
   "cell_type": "markdown",
   "id": "c8c25b34",
   "metadata": {},
   "source": [
    "Write a code get an integer number as input and print the odd and even digits of the number separately.\n",
    "\n",
    "Input Description:\n",
    "A single line containing an integer.\n",
    "\n",
    "Output Description:\n",
    "Print the even and odd integers of the integer in a separate line.\n",
    "\n",
    "Sample Input :\n",
    "1234\n",
    "Sample Output :\n",
    "2 4\n",
    "1 3"
   ]
  },
  {
   "cell_type": "code",
   "execution_count": 55,
   "id": "80b1c4c8",
   "metadata": {},
   "outputs": [
    {
     "name": "stdout",
     "output_type": "stream",
     "text": [
      "12345856\n",
      "2 4 6 8\n",
      "1 3 5 5\n"
     ]
    }
   ],
   "source": [
    "\n",
    "def sp(lw):\n",
    "    a=[]\n",
    "    b=[]\n",
    "   \n",
    "    for i in lw:\n",
    "        if(i%2==0):\n",
    "            a.append(i)\n",
    "        else:\n",
    "            b.append(i)\n",
    "    a.sort()\n",
    "    b.sort()\n",
    "    print(' '.join(map(str,a)))\n",
    "    print(' '.join(map(str,b)))\n",
    "n=int(input())\n",
    "li=[int(i) for i in str(n)]\n",
    "sp(li)\n",
    "\n"
   ]
  },
  {
   "cell_type": "code",
   "execution_count": 5,
   "id": "e15cd655",
   "metadata": {},
   "outputs": [
    {
     "name": "stdout",
     "output_type": "stream",
     "text": [
      "1234\n"
     ]
    },
    {
     "data": {
      "text/plain": [
       "['1', '2', '3', '4']"
      ]
     },
     "execution_count": 5,
     "metadata": {},
     "output_type": "execute_result"
    }
   ],
   "source": [
    "n = input()\n",
    "\n",
    "ll=list(n)\n",
    "ll"
   ]
  },
  {
   "cell_type": "code",
   "execution_count": 6,
   "id": "712128fb",
   "metadata": {},
   "outputs": [
    {
     "name": "stdout",
     "output_type": "stream",
     "text": [
      "1234\n",
      "1 2 3 4\n"
     ]
    }
   ],
   "source": [
    "n = input()\n",
    "l=list(n)\n",
    "print(' '.join(map(str,l)))"
   ]
  },
  {
   "cell_type": "code",
   "execution_count": 10,
   "id": "2ea99197",
   "metadata": {},
   "outputs": [
    {
     "name": "stdout",
     "output_type": "stream",
     "text": [
      "0.4\n",
      "2.51\n"
     ]
    }
   ],
   "source": [
    "n = float(input())\n",
    "x = (22/7)*2\n",
    "y=x*n\n",
    "\n",
    "print(round(y,2))"
   ]
  },
  {
   "cell_type": "code",
   "execution_count": null,
   "id": "49099bae",
   "metadata": {},
   "outputs": [],
   "source": [
    "def numbers_to_day_of_month(argument):\n",
    "    switcher = {\n",
    "        1: 31,\n",
    "        2: 28,\n",
    "        3: 31,\n",
    "        \n",
    "    }\n",
    " "
   ]
  },
  {
   "cell_type": "code",
   "execution_count": 15,
   "id": "52434a60",
   "metadata": {},
   "outputs": [
    {
     "name": "stdout",
     "output_type": "stream",
     "text": [
      "123\n",
      "Error\n"
     ]
    }
   ],
   "source": [
    "def dc(n):\n",
    "    if(n==1):\n",
    "        print(31)\n",
    "    elif(n==2):\n",
    "        print(28)\n",
    "    elif(n==3):\n",
    "        print(31)\n",
    "    elif(n==4):\n",
    "        print(30) \n",
    "    elif(n==5):\n",
    "        print(31)\n",
    "    elif(n==6):\n",
    "        print(30)\n",
    "    elif(n==7):\n",
    "        print(31)\n",
    "    elif(n==8):\n",
    "        print(31) \n",
    "    elif(n==9):\n",
    "        print(30) \n",
    "    elif(n==10):\n",
    "        print(31)\n",
    "    elif(n==11):\n",
    "        print(30)\n",
    "    elif(n==12):\n",
    "         print(31)\n",
    "    else:\n",
    "         print('Error')\n",
    "                 \n",
    "n = int(input())\n",
    "dc(n)"
   ]
  },
  {
   "cell_type": "code",
   "execution_count": 20,
   "id": "27cee277",
   "metadata": {},
   "outputs": [
    {
     "name": "stdout",
     "output_type": "stream",
     "text": [
      "20\n",
      "173.21\n"
     ]
    }
   ],
   "source": [
    "a = float(input())\n",
    "area =( 1.73205 * a*a) / 4\n",
    "print(round(area,2))"
   ]
  },
  {
   "cell_type": "code",
   "execution_count": 5,
   "id": "acad63e7",
   "metadata": {},
   "outputs": [
    {
     "name": "stdout",
     "output_type": "stream",
     "text": [
      "abc\n",
      "294\n"
     ]
    }
   ],
   "source": [
    "s=input()\n",
    "sum_char=0\n",
    "for i in range(len(s)):\n",
    "    sum_char += ord(s[i])\n",
    "print(sum_char)  \n"
   ]
  },
  {
   "cell_type": "markdown",
   "id": "f459a649",
   "metadata": {},
   "source": [
    "You are given two numbers. Your task is to multiply the two numbers and print the answer.\n",
    "\n",
    "Input Description:\n",
    "You are given two numbers ‘n’ and ‘m’.\n",
    "\n",
    "Output Description:\n",
    "Print the multiplied answer\n",
    "\n",
    "Sample Input :\n",
    "99999 99998\n",
    "Sample Output :\n",
    "9999700002\n",
    "\n"
   ]
  },
  {
   "cell_type": "code",
   "execution_count": 9,
   "id": "82884a80",
   "metadata": {},
   "outputs": [
    {
     "name": "stdout",
     "output_type": "stream",
     "text": [
      "99999 99998\n",
      "9999700002\n"
     ]
    }
   ],
   "source": [
    "ns=input().split(\" \")\n",
    "n=int(ns[0])\n",
    "m=int(ns[1])\n",
    "result=n*m\n",
    "print(result)"
   ]
  },
  {
   "cell_type": "markdown",
   "id": "444eb1bc",
   "metadata": {},
   "source": [
    "Ria is a 5 year old girl. Her mother wants to teach her how to sort words in the same order that they appear in a dictionary. She decides to write a program to sort a given set of strings based on their alphabetical order. Help Ria’s mother to complete the program.\n",
    "\n",
    " \n",
    "\n",
    "Input Description:\n",
    "A set of N strings\n",
    "\n",
    "Output Description:\n",
    "Alphabetically sorted set of strings\n",
    "\n",
    "Sample Input :\n",
    "3\n",
    "InfinityWar EndGame Avengers\n",
    "Sample Output :\n",
    "Avengers EndGame InfinityWar"
   ]
  },
  {
   "cell_type": "code",
   "execution_count": 18,
   "id": "d556f6d9",
   "metadata": {},
   "outputs": [
    {
     "data": {
      "text/plain": [
       "['BMW', 'Ford', 'Volvo']"
      ]
     },
     "execution_count": 18,
     "metadata": {},
     "output_type": "execute_result"
    }
   ],
   "source": [
    "cars = ['Ford', 'BMW', 'Volvo']\n",
    "\n",
    "cars.sort()\n",
    "cars"
   ]
  },
  {
   "cell_type": "code",
   "execution_count": 29,
   "id": "21e6089c",
   "metadata": {},
   "outputs": [
    {
     "name": "stdout",
     "output_type": "stream",
     "text": [
      "InfinityWar EndGame Avengers\n",
      "['InfinityWar', 'EndGame', 'Avengers']\n",
      "Avengers EndGame InfinityWar\n"
     ]
    },
    {
     "data": {
      "text/plain": [
       "list"
      ]
     },
     "execution_count": 29,
     "metadata": {},
     "output_type": "execute_result"
    }
   ],
   "source": [
    "sen=input().split(\" \")\n",
    "print(sen)\n",
    "alpha=sorted(sen)\n",
    "print(' '.join(map(str,alpha)))\n",
    "type(sen)"
   ]
  },
  {
   "cell_type": "code",
   "execution_count": 31,
   "id": "767608c1",
   "metadata": {},
   "outputs": [
    {
     "name": "stdout",
     "output_type": "stream",
     "text": [
      "6 5 4 3 2 1\n"
     ]
    },
    {
     "data": {
      "text/plain": [
       "['1', '2', '3', '4', '5', '6']"
      ]
     },
     "execution_count": 31,
     "metadata": {},
     "output_type": "execute_result"
    }
   ],
   "source": [
    "sen=input().split(\" \")\n",
    "#alpha=sorted(sen)\n",
    "alpha"
   ]
  },
  {
   "cell_type": "code",
   "execution_count": 44,
   "id": "de0de11f",
   "metadata": {},
   "outputs": [
    {
     "name": "stdout",
     "output_type": "stream",
     "text": [
      "How many numbers: 3\n",
      "Enter number 2\n",
      "Enter number 6\n",
      "Enter number 6\n",
      "Sum of elements in given list is : 14\n"
     ]
    }
   ],
   "source": [
    "lst = []\n",
    "num = int(input('How many numbers: '))\n",
    "for n in range(num):\n",
    "    numbers = int(input('Enter number '))\n",
    "    lst.append(numbers)\n",
    "print(\"Sum of elements in given list is :\", sum(lst))"
   ]
  },
  {
   "cell_type": "code",
   "execution_count": 51,
   "id": "b73453d5",
   "metadata": {},
   "outputs": [
    {
     "name": "stdout",
     "output_type": "stream",
     "text": [
      "3\n",
      "9 18 27 "
     ]
    }
   ],
   "source": [
    "n=int(input())\n",
    "for i in range(1,n+1):\n",
    "    print(9*i,end=' ')"
   ]
  },
  {
   "cell_type": "code",
   "execution_count": null,
   "id": "8df99c0d",
   "metadata": {},
   "outputs": [],
   "source": [
    "n=int(input())\n",
    "for i in range(1,n+1):\n",
    "    print(9*i,end=' ')"
   ]
  },
  {
   "cell_type": "code",
   "execution_count": 52,
   "id": "79c2c925",
   "metadata": {},
   "outputs": [
    {
     "name": "stdout",
     "output_type": "stream",
     "text": [
      "2 3\n",
      "2\n",
      "2\n",
      "2\n"
     ]
    }
   ],
   "source": [
    "ns=input().split(\" \")\n",
    "n=int(ns[0])\n",
    "m=int(ns[1])\n",
    "for i in range(m):\n",
    "    print(n)"
   ]
  },
  {
   "cell_type": "code",
   "execution_count": null,
   "id": "87f83bc8",
   "metadata": {},
   "outputs": [],
   "source": []
  }
 ],
 "metadata": {
  "kernelspec": {
   "display_name": "Python 3 (ipykernel)",
   "language": "python",
   "name": "python3"
  },
  "language_info": {
   "codemirror_mode": {
    "name": "ipython",
    "version": 3
   },
   "file_extension": ".py",
   "mimetype": "text/x-python",
   "name": "python",
   "nbconvert_exporter": "python",
   "pygments_lexer": "ipython3",
   "version": "3.9.5"
  }
 },
 "nbformat": 4,
 "nbformat_minor": 5
}
