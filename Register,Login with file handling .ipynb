{
 "cells": [
  {
   "cell_type": "code",
   "execution_count": null,
   "id": "cb9dcea8",
   "metadata": {},
   "outputs": [
    {
     "name": "stdout",
     "output_type": "stream",
     "text": [
      "To login type 1\n",
      "To Register type 2\n",
      "1\n",
      "please enter username :siva@gmail.com\n",
      "please enter password :si\n",
      "username and password does not match\n",
      "do you forgot password\n",
      "Please enter your username :siva@gmail.com\n",
      "your password is :S1987@siva\n",
      "please enter username :siva@gmail.com\n",
      "please enter password :S1987@siva\n"
     ]
    }
   ],
   "source": [
    "import re \n",
    "from tkinter import*\n",
    "regex = '^[a-z0-9]+[\\._]?[a-z0-9]+[@]\\w+[.]\\w{2,3}$'  \n",
    "\n",
    "pa =''' 1.password lenth should in minimum 6 and maximum 16\n",
    "       2.Must have minimum one special character,one digit,one uppercase,one lowercase character\n",
    "  ------------------------------------------------------------------------------------------------     \n",
    "  '''\n",
    "\n",
    "def checkuser(username):   \n",
    "    if(re.search(regex,username)):   \n",
    "        print(\"Valid username\")  \n",
    "        print(\"now can set your password\")\n",
    "        print(pa)\n",
    "        return True\n",
    "\n",
    "    else:   \n",
    "        print(\"Invalid Email\") \n",
    "        print('Sorry! cant access please enter correct username')\n",
    "        return False\n",
    "        \n",
    "def login():\n",
    "    username = input('please enter username :')\n",
    "    \n",
    "    password = input('please enter password :')\n",
    "    inf = username+\" \"+password\n",
    "    try:\n",
    "        f = open(\"F:/python_user/\"+username+\".txt\", \"r\")\n",
    "        ref = f.read().split()\n",
    "        pw =ref[1]\n",
    "        if(password==pw):\n",
    "            window = Tk()\n",
    "            window.title('Name Application')\n",
    "            l1 =Label(window,text=\"Enter your Name\")\n",
    "            l1.place(x=0,y=10)\n",
    "            v=StringVar()\n",
    "            def click():\n",
    "                x=v.get()\n",
    "                print(x)\n",
    "                l2.config(text=x)\n",
    "            e1 =Entry(window,width=50,bd=2,textvariable=v)\n",
    "            l2 =Label(window,text=\"display\")\n",
    "            l2.place(x=120,y=120)\n",
    "            e1.place(x=100,y=10)\n",
    "            b1 =Button(window,text=\"Enter\",fg=\"yellow\",bg=\"green\",width=10,command=click)\n",
    "            b1.place(x=100,y=50)\n",
    "            window.mainloop()\n",
    "        else:\n",
    "            print('username and password does not match')\n",
    "            print('do you forgot password')\n",
    "            forgotpassword()\n",
    "    except FileNotFoundError:\n",
    "        print('File is not present')  \n",
    "    \n",
    "def forgotpassword():\n",
    "    usn = input(\"Please enter your username :\")\n",
    "    f = open(\"F:/python_user/\"+usn+\".txt\", \"r\")\n",
    "    ref = f.read().split()\n",
    "    pw =ref[1]\n",
    "    print(\"your password is :\"+pw)\n",
    "    login()\n",
    "            \n",
    "def checkloginuser(usern):\n",
    "    f = open(\"F:/python_user/\"+usern+\".txt\", \"r\")\n",
    "    pwd =f.read().split()\n",
    "    pwd1 = pwd[1]\n",
    "    print(pwd1)\n",
    "    login()\n",
    "   \n",
    "\n",
    "def register():\n",
    "    a ='''1.email/username should have \"@\" and followed by \".\"\n",
    "          eg:- sherlock@gmail.com\n",
    "                nothing@yahoo.in\n",
    "          2.there should not be any \".\" immediate next to \"@\"\n",
    "          eg:- my@.in and @gmail.com\n",
    "          \n",
    "          3.it should not start with special characters and numbers\n",
    "          ----------------------------------------------------------'''\n",
    "          \n",
    "    print(a)\n",
    "    username = input('please enter username :')\n",
    "    if checkuser(username):\n",
    "        password = input('please enter password :') \n",
    "        if(checkpassword(password)):\n",
    "            f = open(\"F:/python_user/\"+username+\".txt\", \"w\")\n",
    "            f.write(username+\" \"+password)\n",
    "            f.close()\n",
    "            print(\"you have Register successfully!!!\")\n",
    "            print(\"Run Application Again and Choose Login option\")\n",
    "        else:\n",
    "             print(\"please run application again!!! set correct username and password \")\n",
    "            \n",
    "    \n",
    "def checkpassword(passwd):      \n",
    "    SpecialSym =['$', '@', '#', '%']\n",
    "    val = True\n",
    "      \n",
    "    if len(passwd) < 5:\n",
    "        print('length should be at least 5')\n",
    "        val = False\n",
    "          \n",
    "    if len(passwd) > 16:\n",
    "        print('length should be not be greater than 16')\n",
    "        val = False\n",
    "        \n",
    "          \n",
    "    if not any(char.isdigit() for char in passwd):\n",
    "        print('Password should have at least one digit')\n",
    "        val = False\n",
    "          \n",
    "    if not any(char.isupper() for char in passwd):\n",
    "        print('Password should have at least one uppercase letter')\n",
    "        val = False\n",
    "          \n",
    "    if not any(char.islower() for char in passwd):\n",
    "        print('Password should have at least one lowercase letter')\n",
    "        val = False\n",
    "          \n",
    "    if not any(char in SpecialSym for char in passwd):\n",
    "        print('Password should have at least one of the symbols $@#')\n",
    "        val = False\n",
    "    if val:\n",
    "        return val\n",
    "\n",
    "          \n",
    "print('To login type 1')\n",
    "print('To Register type 2')\n",
    "oa = int(input())\n",
    "if(oa==1):\n",
    "    login()\n",
    "elif oa==2:\n",
    "    register()\n",
    "\n",
    "else:\n",
    "    print('Sorry! cant access please enter correct option')\n",
    "\n"
   ]
  },
  {
   "cell_type": "code",
   "execution_count": 4,
   "id": "5f458068",
   "metadata": {},
   "outputs": [],
   "source": [
    "f = open(\"demofile3.txt\", \"w\")\n",
    "f.write(\"Woops! I have deleted the content!\")\n",
    "f.write(\"Woops! I have deleted the content!\")\n",
    "f.close()"
   ]
  },
  {
   "cell_type": "code",
   "execution_count": 5,
   "id": "949eec0d",
   "metadata": {},
   "outputs": [
    {
     "name": "stdout",
     "output_type": "stream",
     "text": [
      "Woops! I have deleted the content!Woops! I have deleted the content!\n"
     ]
    }
   ],
   "source": [
    "f = open(\"demofile3.txt\", \"r\")\n",
    "print(f.read())"
   ]
  },
  {
   "cell_type": "code",
   "execution_count": 6,
   "id": "b979516a",
   "metadata": {},
   "outputs": [],
   "source": [
    "f = open(\"demofile3.txt\", \"w\")\n",
    "f.write(\"sivashanmugavadivel\")\n",
    "\n",
    "f.close()"
   ]
  },
  {
   "cell_type": "code",
   "execution_count": 3,
   "id": "9f606eae",
   "metadata": {},
   "outputs": [
    {
     "name": "stdout",
     "output_type": "stream",
     "text": [
      "siva@gmail.com S1987@siva\n"
     ]
    }
   ],
   "source": [
    "f = open(\"F:/python_user/siva@gmail.com.txt\", \"r\")\n",
    "print(f.read())"
   ]
  },
  {
   "cell_type": "code",
   "execution_count": 12,
   "id": "91d76bbb",
   "metadata": {},
   "outputs": [
    {
     "name": "stdout",
     "output_type": "stream",
     "text": [
      "please enter username :siva@gmail.com\n",
      "please enter password :S1987@siva\n",
      "S1987@siva\n"
     ]
    }
   ],
   "source": [
    "username = input('please enter username :')\n",
    "password = input('please enter password :')\n",
    "inf = username+\" \"+password\n",
    "f = open(\"F:/python_user/siva@gmail.com.txt\", \"r\")\n",
    "ref = f.read().split()\n",
    "print(ref[1])"
   ]
  },
  {
   "cell_type": "code",
   "execution_count": 9,
   "id": "57197d10",
   "metadata": {},
   "outputs": [
    {
     "name": "stdout",
     "output_type": "stream",
     "text": [
      "hi\n"
     ]
    }
   ],
   "source": [
    "print('hi')"
   ]
  },
  {
   "cell_type": "code",
   "execution_count": 11,
   "id": "39508376",
   "metadata": {},
   "outputs": [
    {
     "name": "stdout",
     "output_type": "stream",
     "text": [
      "please enter username :saranya@gmail.com\n"
     ]
    },
    {
     "data": {
      "text/plain": [
       "'saranya@gmail.com sara@Y88'"
      ]
     },
     "execution_count": 11,
     "metadata": {},
     "output_type": "execute_result"
    }
   ],
   "source": [
    "username = input('please enter username :')\n",
    "f = open(\"F:/python_user/\"+username+\".txt\", \"r\")\n",
    "ref = f.read()\n",
    "ref"
   ]
  },
  {
   "cell_type": "code",
   "execution_count": 40,
   "id": "aeba874b",
   "metadata": {},
   "outputs": [
    {
     "ename": "IndentationError",
     "evalue": "unexpected indent (3023294088.py, line 4)",
     "output_type": "error",
     "traceback": [
      "\u001b[1;36m  Input \u001b[1;32mIn [40]\u001b[1;36m\u001b[0m\n\u001b[1;33m    ref = f.read()\u001b[0m\n\u001b[1;37m    ^\u001b[0m\n\u001b[1;31mIndentationError\u001b[0m\u001b[1;31m:\u001b[0m unexpected indent\n"
     ]
    }
   ],
   "source": [
    " inf = username+\" \"+password\n",
    "    \n",
    "f = open(\"F:/python_user/\"+username+\".txt\", \"r\")\n",
    "ref = f.read()\n",
    "pwd =f.read().split()\n",
    "pwd1 = list(pwd)\n",
    "passw =pwd1[1]\n",
    "if(ref==inf):\n",
    "    print('successfully you are login!!')\n",
    "elif password!=passw:\n",
    "    print('if you forgot your password ,type please enter your username again')\n",
    "    usern = input()\n",
    "    checkloginuser(usern)"
   ]
  },
  {
   "cell_type": "code",
   "execution_count": 6,
   "id": "d3478ce3",
   "metadata": {},
   "outputs": [
    {
     "name": "stdout",
     "output_type": "stream",
     "text": [
      "To login type 1\n",
      "To Register type 2\n",
      "2\n",
      "1.email/username should have \"@\" and followed by \".\"\n",
      "          eg:- sherlock@gmail.com\n",
      "                nothing@yahoo.in\n",
      "          2.there should not be any \".\" immediate next to \"@\"\n",
      "          eg:- my@.in and @gmail.com\n",
      "\n",
      "          3.it should not start with special characters and numbers\n",
      "          ----------------------------------------------------------\n",
      "please enter username :Q1@gmai.com\n",
      "Valid username\n",
      "now can set your password\n",
      " 1.password lenth should in minimum 6 and maximum 16\n",
      "       2.Must have minimum one special character,one digit,one uppercase,one lowercase character\n",
      "  ------------------------------------------------------------------------------------------------     \n",
      "  \n",
      "please enter password :!a1siva\n",
      "Password should have at least one uppercase letter\n",
      "Password should have at least one of the symbols $@#\n",
      "please run application again!!! set correct username and password \n"
     ]
    }
   ],
   "source": [
    "import re    \n",
    "regex = '^[^a-z0-9]+[\\._]?[a-z0-9]+[@]\\w+[.]\\w{2,3}$'  \n",
    "\n",
    "pa =''' 1.password lenth should in minimum 6 and maximum 16\n",
    "       2.Must have minimum one special character,one digit,one uppercase,one lowercase character\n",
    "  ------------------------------------------------------------------------------------------------     \n",
    "  '''\n",
    "\n",
    "def checkuser(username):   \n",
    "    if(re.search(regex,username)):   \n",
    "        print(\"Valid username\")  \n",
    "        print(\"now can set your password\")\n",
    "        print(pa)\n",
    "        return True\n",
    "\n",
    "    else:   \n",
    "        print(\"Invalid Email\") \n",
    "        print('Sorry! cant access please enter correct username')\n",
    "        return False\n",
    "\n",
    "def login():\n",
    "    username = input('please enter username :')\n",
    "    password = input('please enter password :')\n",
    "    inf = username+\" \"+password\n",
    "    f = open(\"F:/python_user/\"+username+\".txt\", \"r\")\n",
    "    ref = f.read().split()\n",
    "    pw =ref[1]\n",
    "    if(password==pw):\n",
    "        print('Given credentials are correct ')\n",
    "    else:\n",
    "        print('username and password does not match')\n",
    "        print('do you forgot password')\n",
    "        forgotpassword()\n",
    "\n",
    "def forgotpassword():\n",
    "    usn = input(\"Please enter your username\")\n",
    "    f = open(\"F:/python_user/\"+username+\".txt\", \"r\")\n",
    "    ref = f.read().split()\n",
    "    pw =ref[1]\n",
    "    print(\"your password is :\"+pw)\n",
    "    login()\n",
    "\n",
    "def checkloginuser(usern):\n",
    "    f = open(\"F:/python_user/\"+usern+\".txt\", \"r\")\n",
    "    pwd =f.read().split()\n",
    "    pwd1 = pwd[1]\n",
    "    print(pwd1)\n",
    "    login()\n",
    "\n",
    "\n",
    "def register():\n",
    "    a ='''1.email/username should have \"@\" and followed by \".\"\n",
    "          eg:- sherlock@gmail.com\n",
    "                nothing@yahoo.in\n",
    "          2.there should not be any \".\" immediate next to \"@\"\n",
    "          eg:- my@.in and @gmail.com\n",
    "\n",
    "          3.it should not start with special characters and numbers\n",
    "          ----------------------------------------------------------'''\n",
    "\n",
    "    print(a)\n",
    "    username = input('please enter username :')\n",
    "    if checkuser(username):\n",
    "        password = input('please enter password :') \n",
    "        if(checkpassword(password)):\n",
    "            f = open(username+\".txt\", \"w\")\n",
    "            f.write(username+\" \"+password)\n",
    "            f.close()\n",
    "            print(\"you have Register successfully!!!\")\n",
    "            print(\"Run Application Again and Choose Login option\")\n",
    "        else:\n",
    "             print(\"please run application again!!! set correct username and password \")\n",
    "\n",
    "\n",
    "def checkpassword(passwd):      \n",
    "    SpecialSym =['$', '@', '#', '%']\n",
    "    val = True\n",
    "\n",
    "    if len(passwd) < 5:\n",
    "        print('length should be at least 5')\n",
    "        val = False\n",
    "\n",
    "    if len(passwd) > 16:\n",
    "        print('length should be not be greater than 16')\n",
    "        val = False\n",
    "\n",
    "\n",
    "    if not any(char.isdigit() for char in passwd):\n",
    "        print('Password should have at least one digit')\n",
    "        val = False\n",
    "\n",
    "    if not any(char.isupper() for char in passwd):\n",
    "        print('Password should have at least one uppercase letter')\n",
    "        val = False\n",
    "\n",
    "    if not any(char.islower() for char in passwd):\n",
    "        print('Password should have at least one lowercase letter')\n",
    "        val = False\n",
    "\n",
    "    if not any(char in SpecialSym for char in passwd):\n",
    "        print('Password should have at least one of the symbols $@#')\n",
    "        val = False\n",
    "    if val:\n",
    "        return val\n",
    "\n",
    "\n",
    "print('To login type 1')\n",
    "print('To Register type 2')\n",
    "oa = int(input())\n",
    "if(oa==1):\n",
    "    login()\n",
    "elif oa==2:\n",
    "    register()\n",
    "\n",
    "else:\n",
    "    print('Sorry! cant access please enter correct option')"
   ]
  },
  {
   "cell_type": "code",
   "execution_count": null,
   "id": "0a849a27",
   "metadata": {},
   "outputs": [],
   "source": []
  },
  {
   "cell_type": "code",
   "execution_count": null,
   "id": "b7c3a8fd",
   "metadata": {},
   "outputs": [],
   "source": []
  }
 ],
 "metadata": {
  "kernelspec": {
   "display_name": "Python 3 (ipykernel)",
   "language": "python",
   "name": "python3"
  },
  "language_info": {
   "codemirror_mode": {
    "name": "ipython",
    "version": 3
   },
   "file_extension": ".py",
   "mimetype": "text/x-python",
   "name": "python",
   "nbconvert_exporter": "python",
   "pygments_lexer": "ipython3",
   "version": "3.9.5"
  }
 },
 "nbformat": 4,
 "nbformat_minor": 5
}
