{
 "cells": [
  {
   "cell_type": "markdown",
   "id": "9535127c",
   "metadata": {},
   "source": [
    "# Map"
   ]
  },
  {
   "cell_type": "markdown",
   "id": "58ca062c",
   "metadata": {},
   "source": [
    "\n",
    "map() is a function that takes in two arguments:\n",
    "\n",
    "A function\n",
    "A sequence iterable.\n",
    "In the form: map(function, sequence)\n",
    "\n",
    "The first argument is the name of a function and the second a sequence (e.g. a list). map() applies the function to all the elements of the sequence. It returns a new list with the elements changed by the function."
   ]
  },
  {
   "cell_type": "code",
   "execution_count": 4,
   "id": "d4e54a96",
   "metadata": {},
   "outputs": [
    {
     "data": {
      "text/plain": [
       "[6, 8, 10, 12]"
      ]
     },
     "execution_count": 4,
     "metadata": {},
     "output_type": "execute_result"
    }
   ],
   "source": [
    "a = [1,2,3,4]\n",
    "b = [5,6,7,8]\n",
    "\n",
    "list(map(lambda x,y:x+y,a,b))"
   ]
  },
  {
   "cell_type": "markdown",
   "id": "73dd05d5",
   "metadata": {},
   "source": [
    "# we can convert list to str using map"
   ]
  },
  {
   "cell_type": "code",
   "execution_count": 9,
   "id": "57b5c9f1",
   "metadata": {},
   "outputs": [
    {
     "name": "stdout",
     "output_type": "stream",
     "text": [
      "4 5 5 9\n"
     ]
    }
   ],
   "source": [
    "a=['4', '5', '5', '9']\n",
    "b= ' '.join(map(str,a))\n",
    "print(b)"
   ]
  },
  {
   "cell_type": "code",
   "execution_count": 10,
   "id": "590c3688",
   "metadata": {},
   "outputs": [
    {
     "name": "stdout",
     "output_type": "stream",
     "text": [
      "siva  ram  shanmugam  fazil \n"
     ]
    }
   ],
   "source": [
    "a=['siva ', 'ram ', 'shanmugam ', 'fazil ']\n",
    "b= ' '.join(map(str,a))\n",
    "print(b)"
   ]
  },
  {
   "cell_type": "markdown",
   "id": "8e19d644",
   "metadata": {},
   "source": [
    "# calculate Squares of given list using map function"
   ]
  },
  {
   "cell_type": "code",
   "execution_count": 23,
   "id": "a6c30ac2",
   "metadata": {},
   "outputs": [
    {
     "name": "stdout",
     "output_type": "stream",
     "text": [
      "[1, 4, 9, 16]\n"
     ]
    }
   ],
   "source": [
    "def calculateSquare(n):\n",
    "    return n*n\n",
    "\n",
    "\n",
    "numbers = [1, 2, 3, 4]\n",
    "result = map(calculateSquare, numbers)\n",
    "\n",
    "# converting map object to list\n",
    "numberSqaurelist=list(result)\n",
    "\n",
    "\n",
    "print(numberSqaurelist)"
   ]
  },
  {
   "cell_type": "markdown",
   "id": "5342974c",
   "metadata": {},
   "source": [
    "# calculate Squares of given list using map and lambda function"
   ]
  },
  {
   "cell_type": "code",
   "execution_count": 24,
   "id": "961f5718",
   "metadata": {},
   "outputs": [
    {
     "name": "stdout",
     "output_type": "stream",
     "text": [
      "<map object at 0x0000018992A83A30>\n",
      "{144, 1, 9, 16}\n"
     ]
    }
   ],
   "source": [
    "numbers = (1, 12, 3, 4)\n",
    "result = map(lambda x: x*x, numbers)\n",
    "print(result)\n",
    "\n",
    "# converting map object to set\n",
    "numbersSquare = set(result)\n",
    "print(numbersSquare)"
   ]
  },
  {
   "cell_type": "markdown",
   "id": "57d41adb",
   "metadata": {},
   "source": [
    "# reduce()\n"
   ]
  },
  {
   "cell_type": "markdown",
   "id": "803defc8",
   "metadata": {},
   "source": [
    "\n",
    "The function reduce(function, sequence) continually applies the function to the sequence. It then returns a single value."
   ]
  },
  {
   "cell_type": "code",
   "execution_count": 34,
   "id": "3920dc17",
   "metadata": {},
   "outputs": [
    {
     "data": {
      "text/plain": [
       "'sivashanmugasundram'"
      ]
     },
     "execution_count": 34,
     "metadata": {},
     "output_type": "execute_result"
    }
   ],
   "source": [
    "from functools import reduce\n",
    "lst =['siva','shanmuga','sundram']\n",
    "reduce(lambda a,b: a+b,lst)"
   ]
  },
  {
   "cell_type": "code",
   "execution_count": 38,
   "id": "146b8ac4",
   "metadata": {},
   "outputs": [
    {
     "name": "stdout",
     "output_type": "stream",
     "text": [
      "47\n",
      "11\n",
      "47\n",
      "11\n"
     ]
    }
   ],
   "source": [
    "#Find the maximum of a sequence (This already exists as max())\n",
    "lst =[47,11,42,13]\n",
    "\n",
    "max_find = lambda a,b: a if (a > b) else b\n",
    "min_find = lambda a,b: a if (a < b) else b\n",
    "\n",
    "print(reduce(max_find,lst))\n",
    "print(reduce(min_find,lst))\n",
    "print(reduce(lambda a,b: a if (a > b) else b,lst))\n",
    "print(reduce(lambda a,b: a if (a < b) else b,lst))"
   ]
  },
  {
   "cell_type": "markdown",
   "id": "57576efd",
   "metadata": {},
   "source": [
    "# Filters\n",
    "The filter() method filters the given sequence with the help of a function that tests each element in the sequence to be true or not."
   ]
  },
  {
   "cell_type": "code",
   "execution_count": 44,
   "id": "bf58ec5d",
   "metadata": {},
   "outputs": [
    {
     "name": "stdout",
     "output_type": "stream",
     "text": [
      "odd number list : [1, 3, 5, 13, 15, 75]\n",
      "Even number list : [0, 2, 8, 20, 64]\n"
     ]
    }
   ],
   "source": [
    "\n",
    "# a list contains both even and odd numbers. \n",
    "seq = [0, 1, 2, 3, 5, 8, 13,15,20,64,75]\n",
    "  \n",
    "# result contains odd numbers of the list\n",
    "result = filter(lambda x: x % 2 != 0, seq)\n",
    "print('odd number list :',list(result))\n",
    "  \n",
    "# result contains even numbers of the list\n",
    "result = filter(lambda x: x % 2 == 0, seq)\n",
    "print('Even number list :',list(result))"
   ]
  },
  {
   "cell_type": "code",
   "execution_count": null,
   "id": "2c312d10",
   "metadata": {},
   "outputs": [],
   "source": []
  }
 ],
 "metadata": {
  "kernelspec": {
   "display_name": "Python 3 (ipykernel)",
   "language": "python",
   "name": "python3"
  },
  "language_info": {
   "codemirror_mode": {
    "name": "ipython",
    "version": 3
   },
   "file_extension": ".py",
   "mimetype": "text/x-python",
   "name": "python",
   "nbconvert_exporter": "python",
   "pygments_lexer": "ipython3",
   "version": "3.9.5"
  }
 },
 "nbformat": 4,
 "nbformat_minor": 5
}
