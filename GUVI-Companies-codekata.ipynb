{
 "cells": [
  {
   "cell_type": "markdown",
   "id": "d733fcf1",
   "metadata": {},
   "source": [
    "Given the values of a,b and x in the equation ax + b = y. Find the value of y.\n",
    "Sample Testcase :\n",
    "INPUT\n",
    "3 5 2\n",
    "OUTPUT\n",
    "11"
   ]
  },
  {
   "cell_type": "code",
   "execution_count": 1,
   "id": "67d6a68b",
   "metadata": {},
   "outputs": [
    {
     "name": "stdout",
     "output_type": "stream",
     "text": [
      "5 6 9\n"
     ]
    },
    {
     "data": {
      "text/plain": [
       "51"
      ]
     },
     "execution_count": 1,
     "metadata": {},
     "output_type": "execute_result"
    }
   ],
   "source": [
    "#Given the values of a,b and x in the equation ax + b = y. Find the value of y. Sample Testcase : INPUT 3 5 2 OUTPUT 11\n",
    "n=input().split(\" \")\n",
    "a=int(n[0])\n",
    "b=int(n[1])\n",
    "x=int(n[2])\n",
    "y=(a*x)+b\n",
    "y"
   ]
  },
  {
   "cell_type": "code",
   "execution_count": 2,
   "id": "6fc67f8a",
   "metadata": {},
   "outputs": [
    {
     "name": "stdout",
     "output_type": "stream",
     "text": [
      "5\n",
      "The factorial of 5 is 120\n"
     ]
    }
   ],
   "source": [
    "num=int(input())\n",
    "factorial=1\n",
    "if num < 0:\n",
    "    print(\"Sorry, factorial does not exist for negative numbers\")\n",
    "elif num == 0:\n",
    "    print(\"The factorial of 0 is 1\")\n",
    "else:\n",
    "    for i in range(1,num + 1):\n",
    "        factorial = factorial*i\n",
    "    print(\"The factorial of\",num,\"is\",factorial)"
   ]
  },
  {
   "cell_type": "code",
   "execution_count": 3,
   "id": "0a3b2ae6",
   "metadata": {},
   "outputs": [
    {
     "name": "stdout",
     "output_type": "stream",
     "text": [
      "56 89 25 59 16 12\n",
      "12\n"
     ]
    }
   ],
   "source": [
    "a = input().split()\n",
    "al =list(map(int,a))\n",
    "m=min(al)\n",
    "print(m)"
   ]
  },
  {
   "cell_type": "code",
   "execution_count": 4,
   "id": "4d8ccfc7",
   "metadata": {},
   "outputs": [
    {
     "name": "stdout",
     "output_type": "stream",
     "text": [
      "5\n",
      "15\n"
     ]
    }
   ],
   "source": [
    "n=int(input())\n",
    "r=(n*(n+1))/2\n",
    "num=int(r)\n",
    "print(num)"
   ]
  },
  {
   "cell_type": "code",
   "execution_count": 6,
   "id": "fdd8f45c",
   "metadata": {},
   "outputs": [
    {
     "name": "stdout",
     "output_type": "stream",
     "text": [
      "Enter any Number : 17\n",
      "17 is Prime Number\n"
     ]
    }
   ],
   "source": [
    "#program for finding given number prime number or composite number\n",
    "num=int(input(\"Enter any Number : \"))\n",
    "count=0\n",
    "for a in range(2,num):\n",
    "    if num%a==0:\n",
    "        count+=1\n",
    "if count>=1:\n",
    "    print(num, \"is Composite Number\")\n",
    "else:\n",
    "    print(num, \"is Prime Number\")"
   ]
  },
  {
   "cell_type": "code",
   "execution_count": null,
   "id": "005e51c7",
   "metadata": {},
   "outputs": [],
   "source": [
    "\n"
   ]
  },
  {
   "cell_type": "code",
   "execution_count": 7,
   "id": "42424d39",
   "metadata": {},
   "outputs": [
    {
     "name": "stdout",
     "output_type": "stream",
     "text": [
      "lohel\n",
      "llohe\n"
     ]
    }
   ],
   "source": [
    "# Python3 program for Left\n",
    "# Rotation and Right\n",
    "# Rotation of a String\n",
    "\n",
    "# In-place rotates s towards left by d\n",
    "def leftrotate(s, d):\n",
    "    tmp = s[d : ] + s[0 : d]\n",
    "    return tmp\n",
    "\n",
    "# In-place rotates s\n",
    "# towards right by d\n",
    "def rightrotate(s, d):\n",
    "    return leftrotate(s, len(s) - d)\n",
    "\n",
    "# Driver code\n",
    "if __name__==\"__main__\":\n",
    "\t\n",
    "\tstr1 = \"hello\"\n",
    "\tprint(leftrotate(str1, 3))\n",
    "\n",
    "\tstr2 = \"hello\"\n",
    "\tprint(rightrotate(str2, 3))\n",
    "\n",
    "# This code is contributed by Rutvik_56\n"
   ]
  },
  {
   "cell_type": "code",
   "execution_count": 8,
   "id": "915db44e",
   "metadata": {},
   "outputs": [
    {
     "name": "stdout",
     "output_type": "stream",
     "text": [
      "cicada 3\n"
     ]
    },
    {
     "data": {
      "text/plain": [
       "'cadaci'"
      ]
     },
     "execution_count": 8,
     "metadata": {},
     "output_type": "execute_result"
    }
   ],
   "source": [
    "def rotate(s, d):\n",
    "    tmp = s[d-1 :]+s[: d-1]\n",
    "    return tmp\n",
    "a=input().split(\" \")\n",
    "s= a[0]\n",
    "d=int(a[1])\n",
    "rotate(s,d)"
   ]
  },
  {
   "cell_type": "code",
   "execution_count": 10,
   "id": "eb533830",
   "metadata": {},
   "outputs": [
    {
     "name": "stdout",
     "output_type": "stream",
     "text": [
      "5\n",
      "1 1 3 0 5\n",
      "Triplet is 1 ,  1 ,  3\n",
      "1\n"
     ]
    }
   ],
   "source": [
    "#You are given a number n,ranging from 1 to n. Out of which one number is missing. Your task is to print that missing number.\n",
    "def find3Numbers(A, arr_size, sumnum):\n",
    " \n",
    "  \n",
    "    for i in range( 0, arr_size-2):\n",
    " \n",
    "        \n",
    "        for j in range(i + 1, arr_size-1):\n",
    "             \n",
    "            # Now look for the third number\n",
    "            for k in range(j + 1, arr_size):\n",
    "                if A[i] + A[j] + A[k] == sumnum:\n",
    "                    print(\"Triplet is\", A[i],\n",
    "                          \", \", A[j], \", \", A[k])\n",
    "                    return True\n",
    "     \n",
    " \n",
    "    return False\n",
    " \n",
    "\n",
    "sumnum = int(input())\n",
    "s=input().split(\" \")\n",
    "#print(s)\n",
    "si=[int(i) for i in s]\n",
    "#print(si)\n",
    "arr_size = len(si)\n",
    "if(find3Numbers(si, arr_size, sumnum)):\n",
    "    print('1')\n",
    "else:\n",
    "    print('0')\n",
    "\n"
   ]
  },
  {
   "cell_type": "code",
   "execution_count": 11,
   "id": "c61f7a9a",
   "metadata": {},
   "outputs": [
    {
     "name": "stdout",
     "output_type": "stream",
     "text": [
      "Enter an Integer: 89\n",
      "Enter an Integer: 91\n",
      "Sum of p and q: 180\n",
      "Multiplication of p and q: 8099\n"
     ]
    }
   ],
   "source": [
    "p = int(input(\"Enter an Integer: \"))\n",
    "q = int(input(\"Enter an Integer: \"))\n",
    "print(\"Sum of p and q:\",p + q)\n",
    "print(\"Multiplication of p and q:\",p * q)\n"
   ]
  },
  {
   "cell_type": "code",
   "execution_count": null,
   "id": "ca623c8f",
   "metadata": {},
   "outputs": [],
   "source": []
  },
  {
   "cell_type": "code",
   "execution_count": 12,
   "id": "9d8c398c",
   "metadata": {},
   "outputs": [
    {
     "name": "stdout",
     "output_type": "stream",
     "text": [
      "9\n",
      "1 2 3 5 6 7 8 9\n",
      "4\n"
     ]
    }
   ],
   "source": [
    "\n",
    "# Function to find the missing element\n",
    "def getMissingNo(arr, n):\n",
    "    total = (n + 1)*(n + 2)/2\n",
    "    sum_of_A = sum(arr)\n",
    "   \n",
    "    return int(total - sum_of_A)\n",
    " \n",
    "# Driver code\n",
    "sii=[]\n",
    "sumnumber = int(input())\n",
    "   \n",
    "si=input().split(\" \")\n",
    "\n",
    "sii=[int(i) for i in si]\n",
    "\n",
    "n=len(si)\n",
    "     \n",
    "    # Function call\n",
    "miss = getMissingNo(sii, n)\n",
    "print(miss)"
   ]
  },
  {
   "cell_type": "code",
   "execution_count": null,
   "id": "305cc186",
   "metadata": {},
   "outputs": [],
   "source": [
    "si=input().split(\" \")\n",
    "\n",
    "sint=[int(i) for i in si]\n",
    "c=sum(sint)\n",
    "print(c)"
   ]
  },
  {
   "cell_type": "code",
   "execution_count": 4,
   "id": "be7c1464",
   "metadata": {},
   "outputs": [
    {
     "name": "stdout",
     "output_type": "stream",
     "text": [
      "4\n"
     ]
    }
   ],
   "source": [
    "\n",
    "# Function to find the missing element\n",
    "def getMissingNo(arr, n):\n",
    "    total = (n + 1)*(n + 2)/2\n",
    "    sum_of_A = int(sum(arr))\n",
    "   \n",
    "    return int(total - sum_of_A)\n",
    " \n",
    "# Driver code\n",
    "if __name__ == '__main__':\n",
    "    arr = [1, 2, 3, 5]\n",
    "    N = len(arr)\n",
    "     \n",
    "    # Function call\n",
    "    miss = getMissingNo(arr, N)\n",
    "    print(miss)"
   ]
  },
  {
   "cell_type": "code",
   "execution_count": 13,
   "id": "e6a35aa4",
   "metadata": {},
   "outputs": [
    {
     "data": {
      "text/plain": [
       "6"
      ]
     },
     "execution_count": 13,
     "metadata": {},
     "output_type": "execute_result"
    }
   ],
   "source": [
    "\n",
    "arr=[1,2,3,4,5,7,8,9,10]\n",
    "n=len(arr)\n",
    "total=int((n+1)*(n+2)/2)\n",
    "arrsum=sum(arr)\n",
    "missing_value=total-arrsum\n",
    "missing_value"
   ]
  },
  {
   "cell_type": "code",
   "execution_count": 14,
   "id": "2c04250c",
   "metadata": {},
   "outputs": [],
   "source": [
    "#Given 3 numbers A,B,C process and print 'yes' if they can form the sides of a triangle otherwise print 'no'.\n",
    "#Input Size : A,B,C <= 100000"
   ]
  },
  {
   "cell_type": "code",
   "execution_count": 10,
   "id": "f96b2f25",
   "metadata": {},
   "outputs": [
    {
     "name": "stdout",
     "output_type": "stream",
     "text": [
      "3 4 1\n",
      "yes\n"
     ]
    }
   ],
   "source": [
    "triangle_sides=input().split(\" \")\n",
    "triangle_sides=[int(i) for i in triangle_sides]\n",
    "triangle_sides\n",
    "a=triangle_sides[0]\n",
    "b=triangle_sides[1]\n",
    "c=triangle_sides[2]\n",
    "if (a + b <= c) or (a + c <= b) or (b + c <= a) :\n",
    "    print('no')\n",
    "else:\n",
    "    print('yes')"
   ]
  },
  {
   "cell_type": "code",
   "execution_count": 6,
   "id": "5a8ad11c",
   "metadata": {},
   "outputs": [
    {
     "name": "stdout",
     "output_type": "stream",
     "text": [
      "no\n"
     ]
    }
   ],
   "source": [
    "\n",
    "# Python3 program to check if three\n",
    "# sides form a  triangle or not\n",
    " \n",
    "# function to check if three sides\n",
    "# form a triangle or not\n",
    "def checkValidity(a, b, c):\n",
    "     \n",
    "    # check condition\n",
    "    if (a + b <= c) or (a + c <= b) or (b + c <= a) :\n",
    "        return False\n",
    "    else:\n",
    "        return True       \n",
    " \n",
    "# driver code\n",
    "a = 3\n",
    "b = 4\n",
    "c = 1\n",
    "if checkValidity(a, b, c):\n",
    "    print(\"yes\")\n",
    "else:\n",
    "    print(\"no\")"
   ]
  },
  {
   "cell_type": "markdown",
   "id": "3961c155",
   "metadata": {},
   "source": [
    "Given a number N and an array of N elements, find the Bitwise OR of the array elements.\n",
    "Input Size : N <= 100000\n",
    "Sample Testcase :\n",
    "INPUT\n",
    "2\n",
    "2 4\n",
    "OUTPUT\n",
    "6"
   ]
  },
  {
   "cell_type": "code",
   "execution_count": 17,
   "id": "54a0f9a1",
   "metadata": {},
   "outputs": [
    {
     "name": "stdout",
     "output_type": "stream",
     "text": [
      "3\n",
      "1 2 4 0 0\n"
     ]
    },
    {
     "data": {
      "text/plain": [
       "7"
      ]
     },
     "execution_count": 17,
     "metadata": {},
     "output_type": "execute_result"
    }
   ],
   "source": [
    "def OR(a, n):\n",
    "    ans = a[0]\n",
    "    for i in range(1,n):\n",
    "        ans |= a[i]\n",
    "    return ans\n",
    "n=int(input())\n",
    "a=input().split(\" \")\n",
    "a=[int(i) for i in a]\n",
    "OR(a,n)"
   ]
  },
  {
   "cell_type": "code",
   "execution_count": 1,
   "id": "9264e94a",
   "metadata": {},
   "outputs": [
    {
     "name": "stdout",
     "output_type": "stream",
     "text": [
      "2\n",
      "2 4\n"
     ]
    },
    {
     "data": {
      "text/plain": [
       "6"
      ]
     },
     "execution_count": 1,
     "metadata": {},
     "output_type": "execute_result"
    }
   ],
   "source": [
    "#Given a number N and an array of N elements, find the Bitwise XOR of the array elements.\n",
    "#Input Size : N <= 100000\n",
    "def xorOfArray(arr, n):\n",
    " \n",
    "    # Resultant variable\n",
    "    xor_arr = 0\n",
    " \n",
    "    # Iterating through every element in\n",
    "    # the array\n",
    "    for i in range(n):\n",
    " \n",
    "        # Find XOR with the result\n",
    "        xor_arr = xor_arr ^ arr[i]\n",
    " \n",
    "    # Return the XOR\n",
    "    return xor_arr\n",
    "n=int(input())\n",
    "a=input().split(\" \")\n",
    "a=[int(i) for i in a]\n",
    "xorOfArray(a,n)"
   ]
  },
  {
   "cell_type": "code",
   "execution_count": 4,
   "id": "10963a73",
   "metadata": {},
   "outputs": [
    {
     "name": "stdout",
     "output_type": "stream",
     "text": [
      "4\n",
      "4 3 2 1\n",
      "1\n",
      "2\n",
      "3\n"
     ]
    },
    {
     "data": {
      "text/plain": [
       "0"
      ]
     },
     "execution_count": 4,
     "metadata": {},
     "output_type": "execute_result"
    }
   ],
   "source": [
    "def AND(a, n):\n",
    "    ans = a[0]\n",
    "    for i in range(1,n):\n",
    "       # print(i)\n",
    "        ans &= a[i]\n",
    "    return ans\n",
    "n=int(input())\n",
    "a=input().split(\" \")\n",
    "a=[int(i) for i in a]\n",
    "AND(a,n)"
   ]
  },
  {
   "cell_type": "code",
   "execution_count": 1,
   "id": "ca3a7833",
   "metadata": {},
   "outputs": [
    {
     "name": "stdout",
     "output_type": "stream",
     "text": [
      "5\n",
      "1 2 3 4 5 6\n",
      "1\n",
      "2\n",
      "3\n",
      "4\n"
     ]
    }
   ],
   "source": [
    "n=int(input())\n",
    "a=input().split(\" \")\n",
    "a=[int(i) for i in a]\n",
    "for i in range(1,n):\n",
    "    print(i)\n"
   ]
  },
  {
   "cell_type": "code",
   "execution_count": null,
   "id": "bac4f387",
   "metadata": {},
   "outputs": [],
   "source": []
  }
 ],
 "metadata": {
  "kernelspec": {
   "display_name": "Python 3 (ipykernel)",
   "language": "python",
   "name": "python3"
  },
  "language_info": {
   "codemirror_mode": {
    "name": "ipython",
    "version": 3
   },
   "file_extension": ".py",
   "mimetype": "text/x-python",
   "name": "python",
   "nbconvert_exporter": "python",
   "pygments_lexer": "ipython3",
   "version": "3.9.5"
  }
 },
 "nbformat": 4,
 "nbformat_minor": 5
}
